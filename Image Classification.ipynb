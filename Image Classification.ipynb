{
 "cells": [
  {
   "cell_type": "code",
   "execution_count": 1,
   "metadata": {},
   "outputs": [
    {
     "name": "stderr",
     "output_type": "stream",
     "text": [
      "Using TensorFlow backend.\n"
     ]
    }
   ],
   "source": [
    "import numpy as np\n",
    "import pandas as pd\n",
    "import matplotlib.pyplot as plt\n",
    "import os \n",
    "from pathlib import Path\n",
    "from keras.preprocessing import image"
   ]
  },
  {
   "cell_type": "code",
   "execution_count": 5,
   "metadata": {},
   "outputs": [],
   "source": [
    "p=Path(\"Images/\")\n",
    "dirs = p.glob(\"*\")\n",
    "\n",
    "labels_dict = {\"cat\":0,\"dog\":1,\"horse\":2,\"human\":3}\n",
    "image_data =[]\n",
    "labels=[]\n",
    "\n",
    "for folder_dir in dirs:\n",
    "    label = str(folder_dir).split(\"\\\\\")[-1][:-1]\n",
    "\n",
    "    for img_path in folder_dir.glob(\"*.jpg\"):\n",
    "        img = image.load_img(img_path,target_size=(100,100))\n",
    "        img_array=image.img_to_array(img)\n",
    "        image_data.append(img_array)\n",
    "        labels.append(labels_dict[label])"
   ]
  },
  {
   "cell_type": "code",
   "execution_count": 6,
   "metadata": {},
   "outputs": [
    {
     "name": "stdout",
     "output_type": "stream",
     "text": [
      "808\n",
      "808\n"
     ]
    }
   ],
   "source": [
    "print(len(image_data))\n",
    "print(len(labels))"
   ]
  },
  {
   "cell_type": "code",
   "execution_count": 7,
   "metadata": {},
   "outputs": [
    {
     "name": "stdout",
     "output_type": "stream",
     "text": [
      "(808, 100, 100, 3) (808,)\n"
     ]
    }
   ],
   "source": [
    "image_data = np.array(image_data,dtype='float32')/255.0\n",
    "labels = np.array(labels)\n",
    "print(image_data.shape,labels.shape)"
   ]
  },
  {
   "cell_type": "code",
   "execution_count": 8,
   "metadata": {},
   "outputs": [],
   "source": [
    "import random\n",
    "\n",
    "combined = list(zip(image_data,labels))\n",
    "random.shuffle(combined)\n",
    "\n",
    "image_data[:],labels[:] = zip(*combined)"
   ]
  },
  {
   "cell_type": "code",
   "execution_count": null,
   "metadata": {},
   "outputs": [],
   "source": [
    "def drawImg(img):\n",
    "    plt.imshow(img)\n",
    "    plt.axis(\"off\")\n",
    "    plt.show()\n",
    "    \n",
    "    return\n",
    "\n",
    "for i in range(10):\n",
    "    drawImg"
   ]
  }
 ],
 "metadata": {
  "kernelspec": {
   "display_name": "Python 3",
   "language": "python",
   "name": "python3"
  },
  "language_info": {
   "codemirror_mode": {
    "name": "ipython",
    "version": 3
   },
   "file_extension": ".py",
   "mimetype": "text/x-python",
   "name": "python",
   "nbconvert_exporter": "python",
   "pygments_lexer": "ipython3",
   "version": "3.7.2"
  }
 },
 "nbformat": 4,
 "nbformat_minor": 2
}
